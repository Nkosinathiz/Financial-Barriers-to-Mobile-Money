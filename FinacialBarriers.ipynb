{
 "cells": [
  {
   "cell_type": "markdown",
   "id": "51eedb6a-85fa-4bdc-ae91-5cbe08f94c09",
   "metadata": {},
   "source": [
    "<h1>Data Analysis And Visualization: Group Assignment</h1>\n",
    "<h1>Financial Barriers in the Digital Age: Why Many Still Lack Mobile Money Accounts in South Africa and Other African Countries<h1>"
   ]
  },
  {
   "cell_type": "markdown",
   "id": "3bb5ad1c-8311-4aa1-988d-b1f0fa1be85a",
   "metadata": {},
   "source": [
    "<hr><hr>"
   ]
  },
  {
   "cell_type": "markdown",
   "id": "edf40e64-00bc-4190-bb04-e43f65e6259e",
   "metadata": {},
   "source": [
    "<h2>Group Members</h2>\n",
    "\n",
    "<h3>Names and Last Names -- Student Number</h3>\n",
    "<h3>Nkosinathi Bradley Zitha -- 202342654</h3>\n",
    "<h3>Maxwell Senzo Ngcane -- 202308852</h3>\n",
    "<h3>Siphokuhle Njova -- 202112932</h3>\n",
    "\n",
    "\n"
   ]
  },
  {
   "cell_type": "markdown",
   "id": "6e0eccf2-cb51-49e9-b0e7-7d42700fffa7",
   "metadata": {},
   "source": [
    "<hr>"
   ]
  },
  {
   "cell_type": "markdown",
   "id": "e6583020-ce5d-4f53-8f08-bb7ac26a3c0c",
   "metadata": {},
   "source": [
    "<h4>1. Data Preparation.</h4>"
   ]
  },
  {
   "cell_type": "code",
   "execution_count": 1,
   "id": "cbcf0b2d-0d1b-4290-bd1e-da4a61436d6a",
   "metadata": {},
   "outputs": [],
   "source": [
    "import pandas as pd\n",
    "import numpy as np\n",
    "import matplotlib.pyplot as plt\n",
    "import seaborn as sns\n",
    "import sqlite3"
   ]
  },
  {
   "cell_type": "code",
   "execution_count": 3,
   "id": "e2f1ee75-64cf-4dd8-8e22-9811c771c9e9",
   "metadata": {},
   "outputs": [],
   "source": [
    "# Loading the dataset\n",
    "\n",
    "data_a= pd.read_csv(\"WB_FINDEX_FIN14A.csv\")\n",
    "data_d = pd.read_csv(\"WB_FINDEX_FIN14D.csv\")"
   ]
  },
  {
   "cell_type": "code",
   "execution_count": 4,
   "id": "a0036f4b-efd4-4375-a562-f8f852fc0172",
   "metadata": {},
   "outputs": [
    {
     "name": "stdout",
     "output_type": "stream",
     "text": [
      "Head of selected data for FIN14A:\n",
      "   REF_AREA_LABEL  OBS_VALUE UNIT_MEASURE\n",
      "19        Liberia  19.437954      PT_RESP\n",
      "20     Madagascar  32.553897      PT_RESP\n",
      "21         Malawi   6.586628      PT_RESP\n",
      "22           Mali  10.084564      PT_RESP\n",
      "23     Mozambique  16.205515      PT_RESP\n"
     ]
    }
   ],
   "source": [
    "# Selecting the countries and columns we will use in this analysis\n",
    "\n",
    "countries = ['Liberia', 'Madagascar', 'Malawi', 'Mali', 'Mozambique', 'Namibia', 'Niger', 'Nigeria', 'Pakistan', 'Senegal', 'Sierra Leone', 'South Africa', 'Tanzania', 'Togo', 'Uganda', 'Zambia', 'Zimbabwe', 'Sub-Saharan Africa (excluding high income)']\n",
    "\n",
    "df_filtered_a = data_a[data_a[\"REF_AREA_LABEL\"].isin(countries)]\n",
    "\n",
    "df_selected_a = df_filtered_a[[\"REF_AREA_LABEL\", \"OBS_VALUE\", \"UNIT_MEASURE\"]]\n",
    "\n",
    "# Printing to see the data\n",
    "print(\"Head of selected data for FIN14A:\")\n",
    "print(df_selected_a.head())"
   ]
  },
  {
   "cell_type": "code",
   "execution_count": 5,
   "id": "093da820-d550-40be-bea0-ed10a3be6828",
   "metadata": {},
   "outputs": [
    {
     "name": "stdout",
     "output_type": "stream",
     "text": [
      "\n",
      "Head of selected data for FIN14D:\n",
      "   REF_AREA_LABEL  OBS_VALUE UNIT_MEASURE\n",
      "19        Liberia  33.121814      PT_RESP\n",
      "20     Madagascar  42.521245      PT_RESP\n",
      "21         Malawi  35.828747      PT_RESP\n",
      "22           Mali  23.258958      PT_RESP\n",
      "23     Mozambique  27.491945      PT_RESP\n"
     ]
    }
   ],
   "source": [
    "\n",
    "df_filtered_d = data_d[data_d[\"REF_AREA_LABEL\"].isin(countries)]\n",
    "df_selected_d = df_filtered_d[[\"REF_AREA_LABEL\", \"OBS_VALUE\", \"UNIT_MEASURE\"]]\n",
    "\n",
    "print(\"\\nHead of selected data for FIN14D:\")\n",
    "print(df_selected_d.head())"
   ]
  },
  {
   "cell_type": "code",
   "execution_count": 6,
   "id": "d1ea355e-9eb5-441b-938a-4a563dac344b",
   "metadata": {},
   "outputs": [],
   "source": [
    "# We then filter PT_RESP_NACCT only which is Percentage of respondents without an account in full\n",
    "df_nacct_a = df_selected_a[df_selected_a[\"UNIT_MEASURE\"] == \"PT_RESP_NACCT\"].copy()\n",
    "df_nacct_a.rename(columns={\"REF_AREA_LABEL\": \"Country\", \"OBS_VALUE\": \"Agents Too Far (%)\"}, inplace=True)\n",
    "df_nacct_a = df_nacct_a[[\"Country\", \"Agents Too Far (%)\"]]\n",
    "\n",
    "df_nacct_d = df_selected_d[df_selected_d[\"UNIT_MEASURE\"] == \"PT_RESP_NACCT\"].copy()\n",
    "df_nacct_d.rename(columns={\"REF_AREA_LABEL\": \"Country\", \"OBS_VALUE\": \"Not Enough Money (%)\"}, inplace=True)\n",
    "df_nacct_d = df_nacct_d[[\"Country\", \"Not Enough Money (%)\"]]"
   ]
  },
  {
   "cell_type": "code",
   "execution_count": 7,
   "id": "023dddf2-8c41-4a63-9b11-486b27bbbfb4",
   "metadata": {},
   "outputs": [
    {
     "name": "stderr",
     "output_type": "stream",
     "text": [
      "C:\\Users\\zitha\\AppData\\Local\\Temp\\ipykernel_20484\\3658827955.py:3: FutureWarning: A value is trying to be set on a copy of a DataFrame or Series through chained assignment using an inplace method.\n",
      "The behavior will change in pandas 3.0. This inplace method will never work because the intermediate object on which we are setting values always behaves as a copy.\n",
      "\n",
      "For example, when doing 'df[col].method(value, inplace=True)', try using 'df.method({col: value}, inplace=True)' or df[col] = df[col].method(value) instead, to perform the operation inplace on the original object.\n",
      "\n",
      "\n",
      "  df_nacct_a['Agents Too Far (%)'].fillna(df_nacct_a['Agents Too Far (%)'].mean(), inplace=True)\n",
      "C:\\Users\\zitha\\AppData\\Local\\Temp\\ipykernel_20484\\3658827955.py:4: FutureWarning: A value is trying to be set on a copy of a DataFrame or Series through chained assignment using an inplace method.\n",
      "The behavior will change in pandas 3.0. This inplace method will never work because the intermediate object on which we are setting values always behaves as a copy.\n",
      "\n",
      "For example, when doing 'df[col].method(value, inplace=True)', try using 'df.method({col: value}, inplace=True)' or df[col] = df[col].method(value) instead, to perform the operation inplace on the original object.\n",
      "\n",
      "\n",
      "  df_nacct_d['Not Enough Money (%)'].fillna(df_nacct_d['Not Enough Money (%)'].mean(), inplace=True)\n"
     ]
    }
   ],
   "source": [
    "# We then handle Missing values in columns with mean\n",
    "\n",
    "df_nacct_a['Agents Too Far (%)'].fillna(df_nacct_a['Agents Too Far (%)'].mean(), inplace=True)\n",
    "df_nacct_d['Not Enough Money (%)'].fillna(df_nacct_d['Not Enough Money (%)'].mean(), inplace=True)"
   ]
  },
  {
   "cell_type": "code",
   "execution_count": 8,
   "id": "c6eef0a9-b8b2-4089-8b99-e3f578ecd71c",
   "metadata": {},
   "outputs": [
    {
     "name": "stdout",
     "output_type": "stream",
     "text": [
      "\n",
      "Descriptive Stats for Dataset 1 (Agents Too Far):\n",
      "       Agents Too Far (%)\n",
      "count           18.000000\n",
      "mean            27.767679\n",
      "std              7.290835\n",
      "min             11.471781\n",
      "25%             23.430145\n",
      "50%             27.767679\n",
      "75%             31.095413\n",
      "max             40.534469\n"
     ]
    }
   ],
   "source": [
    "# Here we generate descriptive stats for the first dataframe\n",
    "\n",
    "print(\"\\nDescriptive Stats for Dataset 1 (Agents Too Far):\")\n",
    "print(df_nacct_a.describe())"
   ]
  },
  {
   "cell_type": "code",
   "execution_count": 9,
   "id": "cf018fdf-e2f6-4bea-aa97-c960685e31c0",
   "metadata": {},
   "outputs": [
    {
     "name": "stdout",
     "output_type": "stream",
     "text": [
      "\n",
      "Descriptive Stats for Dataset 2 (Not Enough Money):\n",
      "       Not Enough Money (%)\n",
      "count             18.000000\n",
      "mean              54.078688\n",
      "std               11.320088\n",
      "min               24.267498\n",
      "25%               49.480106\n",
      "50%               53.857691\n",
      "75%               58.915583\n",
      "max               72.063577\n"
     ]
    }
   ],
   "source": [
    "# Here we generate descriptive stats for the second dataframe\n",
    "\n",
    "print(\"\\nDescriptive Stats for Dataset 2 (Not Enough Money):\")\n",
    "print(df_nacct_d.describe())"
   ]
  },
  {
   "cell_type": "markdown",
   "id": "c411a1ea-985e-4750-9104-6a27971eee44",
   "metadata": {},
   "source": [
    "<hr><hr>"
   ]
  },
  {
   "cell_type": "markdown",
   "id": "675ba5fd-f621-4442-a168-f4f5f190693a",
   "metadata": {},
   "source": [
    "<h4>2. Numerical Analysis</h4>"
   ]
  },
  {
   "cell_type": "code",
   "execution_count": null,
   "id": "df3eb2d6-5c65-4181-9229-79c09c526519",
   "metadata": {},
   "outputs": [],
   "source": []
  }
 ],
 "metadata": {
  "kernelspec": {
   "display_name": "Python 3 (ipykernel)",
   "language": "python",
   "name": "python3"
  },
  "language_info": {
   "codemirror_mode": {
    "name": "ipython",
    "version": 3
   },
   "file_extension": ".py",
   "mimetype": "text/x-python",
   "name": "python",
   "nbconvert_exporter": "python",
   "pygments_lexer": "ipython3",
   "version": "3.13.5"
  }
 },
 "nbformat": 4,
 "nbformat_minor": 5
}
